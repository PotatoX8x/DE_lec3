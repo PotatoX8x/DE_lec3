{
 "cells": [
  {
   "cell_type": "markdown",
   "id": "7900a5fb-91b0-40dd-86f3-3ee42dc352c9",
   "metadata": {},
   "source": [
    "# Task 1"
   ]
  },
  {
   "cell_type": "markdown",
   "id": "420d2202-8830-4a12-897f-030dcfeb4144",
   "metadata": {},
   "source": [
    "Реалізуй функцію `numbers_handler`, яка приймає список чисел numbers і три колбеки:\n",
    "\n",
    "    * before - колбек, який першим викликається для кожного з чисел\n",
    "    * action - викликається другим для кожного з чисел\n",
    "    * after - викликається останнім для кожного з чисел\n",
    "\n",
    "Кожен із колбеків має єдиний параметр - число `number`.\n",
    "\n",
    "Функція повинна викликати всі три колбеки у вказаному порядку для кожного з чисел.\n",
    "\n",
    "Крім того, реалізуй значення за замовчуванням для цих колбеків.\n",
    "\n",
    "Для `before` напиши функцію `new_number`, яка приймає число та виводить рядок `Received a new number: {number}` за допомогою функції `print`.\n",
    "\n",
    "Для `action` напиши функцію `is_positive`, яка приймає число та виводить рядок `{number} is a positive number` якщо число `number` - додатне, рядок `Zero`, якщо число дорівнює нулю, і рядок `{number} is a negative number`, якщо число від'ємне.\n",
    "\n",
    "Для `after` напиши функцію `print_bye`, яка просто виводить рядок `Bye!`.\n",
    "\n",
    "**Example:**\n",
    "\n",
    "\n",
    "```python\n",
    "numbers_handler([1, -1, 0]) # викликаємо функцію зі значеннями функцій за замовчуванням\n",
    "# на екран виводиться:\n",
    "# Received a new number: 1\n",
    "# 1 is a positive number\n",
    "# Bye!\n",
    "# Received a new number: -1\n",
    "# -1 is a negative number\n",
    "# Bye!\n",
    "# Received a new number: 0\n",
    "# Zero\n",
    "# Bye!\n",
    "\n",
    "\n",
    "def print_hello(number):\n",
    "    print(\"Hello!\")\n",
    "\n",
    "def some_action(number):\n",
    "    print(\"Action!\")\n",
    "\n",
    "numbers_handler([10], action=some_action, before=print_hello)\n",
    "# Викликаємо функцію зі своїми функціями\n",
    "# на екран виводиться:\n",
    "# Hello!\n",
    "# Action!\n",
    "# Bye!\n",
    "```\n",
    "\n"
   ]
  },
  {
   "cell_type": "code",
   "execution_count": 1,
   "id": "ed739bb9-fbf1-4301-8f34-d6d6353306af",
   "metadata": {},
   "outputs": [],
   "source": [
    "# Your code here:\n",
    "\n",
    "def new_number(number):\n",
    "    print(f'Received a new number: {number}')\n",
    "\n",
    "\n",
    "def is_positive(number):\n",
    "    if number > 0:\n",
    "        print(f'{number} is a positive number')\n",
    "    elif number < 0:\n",
    "        print(f'{number} is a negative number')\n",
    "    else:\n",
    "        print('Zero')\n",
    "\n",
    "def print_bye():\n",
    "    print('Bye!')\n",
    "\n",
    "\n",
    "def numbers_handler(numbers_array, before, action, after):\n",
    "    for num in numbers_array:\n",
    "        before(num)\n",
    "        action(num)\n",
    "        after()\n",
    "        print('')"
   ]
  },
  {
   "cell_type": "code",
   "execution_count": 2,
   "id": "db7d018c",
   "metadata": {},
   "outputs": [
    {
     "name": "stdout",
     "output_type": "stream",
     "text": [
      "Received a new number: -5\n",
      "-5 is a negative number\n",
      "Bye!\n",
      "\n",
      "Received a new number: 2\n",
      "2 is a positive number\n",
      "Bye!\n",
      "\n",
      "Received a new number: 0\n",
      "Zero\n",
      "Bye!\n",
      "\n",
      "Received a new number: -1\n",
      "-1 is a negative number\n",
      "Bye!\n",
      "\n"
     ]
    }
   ],
   "source": [
    "# Test using example above\n",
    "\n",
    "numbers_handler([-5, 2, 0, -1], new_number, is_positive, print_bye)"
   ]
  },
  {
   "cell_type": "markdown",
   "id": "c3c57d4a-f735-4673-857b-56e9c8fcb5e7",
   "metadata": {},
   "source": [
    "# Task 2"
   ]
  },
  {
   "cell_type": "markdown",
   "id": "e896158d-26cd-4fb0-a210-ac3dc44430a4",
   "metadata": {},
   "source": [
    "Наприкінці навчального року час виставляти річні. За рік кожен з учнів отримує кілька оцінок. Річний бал дорівнює середньому арифметичному, округленому до найближчого цілого.\n",
    "\n",
    "Напиши функцію `get_average_mark`, яка приймає ім'я студента та довільну ненульову кількість його оцінок. Вона має повернути рядок-результат, у якому міститься підсумковий бал у форматі `{student_name} got {student_mark}`.\n",
    "\n",
    "**Example**:\n",
    "\n",
    "```python\n",
    "get_average_mark(\"Danylo\", 11) == \"Danylo got 11\"\n",
    "get_average_mark(\"Oleksii\", 12, 10, 11, 11, 11) == \"Oleksii got 11\"\n",
    "get_average_mark(\"Ivan\", 10, 11, 12, 9, 12, 12) == \"Ivan got 11\"\n",
    "```"
   ]
  },
  {
   "cell_type": "code",
   "execution_count": 3,
   "id": "e8538f31-77e7-44ff-b439-857e254c4250",
   "metadata": {},
   "outputs": [],
   "source": [
    "# Your code here:\n",
    "\n",
    "def get_average_mark(student_name, *marks):\n",
    "    marks_sum = 0\n",
    "    for i in marks:\n",
    "        marks_sum += i\n",
    "    marks_average = marks_sum / len(marks)\n",
    "    print(f'{student_name} got {marks_average}')"
   ]
  },
  {
   "cell_type": "code",
   "execution_count": 4,
   "id": "7b4af10e",
   "metadata": {},
   "outputs": [
    {
     "name": "stdout",
     "output_type": "stream",
     "text": [
      "Mark got 7.5\n",
      "John got 2.0\n",
      "Will got 10.5\n"
     ]
    }
   ],
   "source": [
    "# Test using example above\n",
    "\n",
    "get_average_mark('Mark', 5, 8, 11, 6)\n",
    "get_average_mark('John', 2)\n",
    "get_average_mark('Will', 10, 12, 10, 11, 9, 11)"
   ]
  },
  {
   "cell_type": "markdown",
   "id": "263d49a7-6e1b-4fae-92f3-79e307ed9490",
   "metadata": {},
   "source": [
    "# Task 3"
   ]
  },
  {
   "cell_type": "markdown",
   "id": "5badef60-a4e8-4f88-8e1d-8e335ea80fce",
   "metadata": {},
   "source": [
    "Напиши функцію `message_people`, яка приймає список імен `people`, створює і повертає функцію `print_message`.\n",
    "\n",
    "Внутрішня функція приймає строку `message` і в залежності від того, чому дорівнює `message` `('hello'/'meeting'/'bye')` виводить результати, які показані в прикладі, функція `print_message` не повинна нічого повертати.\n",
    "\n",
    "```python\n",
    "mes_people = message_people([\"Alex\", \"Robert\", \"Tom\"])\n",
    "mes_people('hello')\n",
    "# Hello, Alex, Robert, Tom, nice to see you!\n",
    "mes_people('meeting')\n",
    "# Alex, Robert, Tom, we have a meeting in an hour, don't be late!\n",
    "mes_people('bye')\n",
    "# Bye Alex, Robert, Tom, see you tomorrow!\n",
    "```"
   ]
  },
  {
   "cell_type": "code",
   "execution_count": 5,
   "id": "4fd86973-c9aa-4621-a7d4-6390661afe45",
   "metadata": {},
   "outputs": [],
   "source": [
    "# Your code here:\n",
    "\n",
    "def message_people(names_array):\n",
    "    def print_message(message):\n",
    "        if message == 'hello':\n",
    "            print(\"Hello, \", end = '')\n",
    "            print(*names_array, sep = \", \", end = '')\n",
    "            print(\", nice to see you!\")\n",
    "        elif message == 'meeting':\n",
    "            print(*names_array, sep = \", \", end = '')\n",
    "            print(\", we have a meeting in an hour, don't be late!\")\n",
    "        elif message == 'bye':\n",
    "            print(\"Bye \", end = '')\n",
    "            print(*names_array, sep = \", \", end = '')\n",
    "            print(\", see you tomorrow!\")\n",
    "    return print_message"
   ]
  },
  {
   "cell_type": "code",
   "execution_count": 6,
   "id": "422e06d2",
   "metadata": {},
   "outputs": [
    {
     "name": "stdout",
     "output_type": "stream",
     "text": [
      "Hello, Alex, Robert, Tom, nice to see you!\n",
      "Alex, Robert, Tom, we have a meeting in an hour, don't be late!\n",
      "Bye Alex, Robert, Tom, see you tomorrow!\n"
     ]
    }
   ],
   "source": [
    "# Test using example above\n",
    "\n",
    "mes_people = message_people([\"Alex\", \"Robert\", \"Tom\"])\n",
    "mes_people('hello')\n",
    "mes_people('meeting')\n",
    "mes_people('bye')"
   ]
  },
  {
   "cell_type": "markdown",
   "id": "7c0ec355-116c-4168-824e-22c5babca443",
   "metadata": {
    "tags": []
   },
   "source": [
    "# Task 4\n"
   ]
  },
  {
   "cell_type": "markdown",
   "id": "f14fc320-e4f9-4915-a19d-c880207455cd",
   "metadata": {},
   "source": [
    "Числа Фібоначчі - це числова послідовність, у якій перші два елементи дорівнюють нулю та одиниці, а кожен наступний дорівнює сумі двох попередніх.\n",
    "\n",
    "    F₀ = 0,\n",
    "    F₁ = 1,\n",
    "    Fᵢ = Fᵢ₋₁ + Fᵢ₋₂\n",
    "\n",
    "Ось перші елементи цієї послідовності: `0, 1, 1, 2, 3, 5, 8, 13...`\n",
    "\n",
    "Детальніше числа Фібоначчі можна прочитати за цим посиланням. https://www.techtarget.com/whatis/definition/Fibonacci-sequence\n",
    "\n",
    "Напишіть генератор `fibonacci_generator`, що приймає число n і рахує перші n чисел Фібоначчі.\n",
    "\n",
    "**Example:**\n",
    "\n",
    "```python\n",
    "\n",
    "fib_generator = fibonacci_generator(6)\n",
    "for fib_number in fib_generator:\n",
    "    print(fib_number)\n",
    "# 0\n",
    "# 1\n",
    "# 1 (1 + 0)\n",
    "# 2 (1 + 1)\n",
    "# 3 (2 + 1)\n",
    "# 5 (3 + 2)\n",
    "\n",
    "```\n",
    "\n"
   ]
  },
  {
   "cell_type": "code",
   "execution_count": 7,
   "id": "6665a52a-aeb9-4871-9e14-1693a2b07353",
   "metadata": {},
   "outputs": [],
   "source": [
    "# Your code here:\n",
    "\n",
    "def fibonacci_generator(depth):\n",
    "    a, b = 0, 1\n",
    "    for i in range(depth):\n",
    "        yield a\n",
    "        a, b = b, a + b"
   ]
  },
  {
   "cell_type": "code",
   "execution_count": 8,
   "id": "fafc3fc4",
   "metadata": {},
   "outputs": [
    {
     "name": "stdout",
     "output_type": "stream",
     "text": [
      "0\n",
      "1\n",
      "1\n",
      "2\n",
      "3\n",
      "5\n"
     ]
    }
   ],
   "source": [
    "# Test using example above\n",
    "\n",
    "fib_generator = fibonacci_generator(6)\n",
    "for fib_number in fib_generator:\n",
    "    print(fib_number)"
   ]
  },
  {
   "cell_type": "markdown",
   "id": "c6d8d9ca-c021-4c57-9ef3-890d90050f18",
   "metadata": {},
   "source": [
    "# Task 5"
   ]
  },
  {
   "cell_type": "markdown",
   "id": "00de0af1-8343-44da-8d79-ffefaeaa7089",
   "metadata": {
    "tags": []
   },
   "source": [
    "## class Person\n",
    "\n",
    "\n",
    "You have a list of dicts `people`, every dict means\n",
    "a **person**, it has keys: `name`, `age`, \n",
    "`wife`/`husband` - depends on person is male or \n",
    "female. All `names` are different. Key \n",
    "`wife`/`husband` can be either `None` or \n",
    "name of another person.\n",
    "\n",
    "Create class `Person`. It's constructor takes\n",
    "and store `name`, `age` of a person.\n",
    "This class also should have a class attribute\n",
    "`people`, it is a dict that stores `Person` \n",
    "instances by their `name`. Constructor should \n",
    "add elements to this attribute.\n",
    "\n",
    "Write function `create_person_list`, this function\n",
    "takes list `people` and return list with\n",
    "`Person` instances instead of dicts.\n",
    "\n",
    "**Note:**\n",
    "\n",
    "If **person's** key `wife`/`husband` is not \n",
    "`None` - `create_person_list` should add \n",
    "attribute `wife`/`husband` respectively\n",
    "to its instance. This attribute should\n",
    "be a link to a `Person` instance with `name` the\n",
    "same as `wife`/`husband` key in person's dict.\n",
    "\n",
    "\n",
    "**Example**:\n",
    "```python\n",
    "people = [\n",
    "    {'name': 'Ross', 'age': 30, 'wife': 'Rachel'},\n",
    "    {'name': 'Joey', 'age': 29, 'wife': None},\n",
    "    {'name': 'Rachel', 'age': 28, 'husband': 'Ross'}\n",
    "]\n",
    "\n",
    "person_list = create_person_list(people) \n",
    "isinstance(person_list[0], Person) # True\n",
    "person_list[0].name == 'Ross'\n",
    "person_list[0].wife is person_list[2] # True\n",
    "person_list[0].wife.name == 'Rachel'\n",
    "\n",
    "person_list[1].name == 'Joey'\n",
    "person_list[1].wife\n",
    "# AttributeError\n",
    "\n",
    "isinstance(person_list[2], Person) # True\n",
    "person_list[2].name == 'Rachel'\n",
    "person_list[2].husband is person_list[0] # True\n",
    "# The same as person_list[0]\n",
    "person_list[2].husband.name == 'Ross'\n",
    "person_list[2].husband.wife is person_list[2]  # True\n",
    "\n",
    "Person.people == {\n",
    "    'Ross': <__main__.Person object at 0x10c20ca60>,\n",
    "    'Joey': <__main__.Person object at 0x10c180a00>,\n",
    "    'Rachel': <__main__.Person object at 0x10c1804f0>\n",
    "}\n",
    "```\n",
    "\n",
    "\n"
   ]
  },
  {
   "cell_type": "code",
   "execution_count": 9,
   "id": "79807ef4-9eb2-4636-9b3c-b2b5a5e7f7e2",
   "metadata": {},
   "outputs": [],
   "source": [
    "# Your code here:\n",
    "\n",
    "class Person:\n",
    "    people = None\n",
    "    def __init__(self, name, age):\n",
    "        self.name = name\n",
    "        self.age = age\n",
    "    def __getattr__(self, attr):\n",
    "        setattr(self, attr, 'N/A')\n",
    "def create_person_list():"
   ]
  },
  {
   "cell_type": "code",
   "execution_count": null,
   "id": "969a93ec",
   "metadata": {},
   "outputs": [],
   "source": [
    "# Test using example above\n",
    "\n",
    "people = [\n",
    "    {'name': 'Ross', 'age': 30, 'wife': 'Rachel'},\n",
    "    {'name': 'Joey', 'age': 29, 'wife': None},\n",
    "    {'name': 'Rachel', 'age': 28, 'husband': 'Ross'}\n",
    "]\n",
    "person_list = create_person_list(people) "
   ]
  }
 ],
 "metadata": {
  "kernelspec": {
   "display_name": "Python 3 (ipykernel)",
   "language": "python",
   "name": "python3"
  },
  "language_info": {
   "codemirror_mode": {
    "name": "ipython",
    "version": 3
   },
   "file_extension": ".py",
   "mimetype": "text/x-python",
   "name": "python",
   "nbconvert_exporter": "python",
   "pygments_lexer": "ipython3",
   "version": "3.9.13"
  }
 },
 "nbformat": 4,
 "nbformat_minor": 5
}
